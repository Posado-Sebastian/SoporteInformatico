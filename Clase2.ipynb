{
  "nbformat": 4,
  "nbformat_minor": 0,
  "metadata": {
    "colab": {
      "provenance": []
    },
    "kernelspec": {
      "name": "python3",
      "display_name": "Python 3"
    },
    "language_info": {
      "name": "python"
    }
  },
  "cells": [
    {
      "cell_type": "markdown",
      "source": [
        "Mi csv es sobre competidores de la ufc, los datos que tiene son la altura, el alcance, fecha de nacimiento, guardia, peso, link de su pagina de la ufc con las stats oficiales, nombre y apellido.\n",
        "\n"
      ],
      "metadata": {
        "id": "ZPBAa0NKxSci"
      }
    },
    {
      "cell_type": "code",
      "execution_count": null,
      "metadata": {
        "id": "BI9vsQyaxL0i"
      },
      "outputs": [],
      "source": [
        "import pandas as pd   #importamos la libreria pandas para poder leer el csv\n",
        "import numpy as np\n",
        "\n",
        "def cambiarInToCm(csv, columna):\n",
        "  csv[columna] = csv[columna].apply(lambda x: x.replace('\"', \"in\").replace(\"'\", \"ft\"))\n",
        "  return csv\n",
        "\n",
        "def eliminarURL(csv):\n",
        "  csv = csv.drop(columns=['URL'],axis=1)\n",
        "  return csv\n",
        "\n",
        "def reemplazarGuionesPorNaN(csv):\n",
        "  csv.replace('--', np.nan, inplace=True)\n",
        "  return csv\n",
        "\n",
        "def eliminarFilasIncompletas(csv):\n",
        "  csv = csv.dropna()\n",
        "  return csv\n",
        "\n",
        "def convertirFecha(csv):\n",
        "  csv['DOB'] = pd.to_datetime(csv['DOB']).dt.strftime('%d/%m/%Y')\n",
        "  return csv\n",
        "\n",
        "def eliminarEspacios(csv):\n",
        "  for column in csv.columns:\n",
        "    csv[column] = csv[column].str.replace(' ', '')\n",
        "\n",
        "  return csv\n",
        "\n",
        "csv = pd.read_csv(\"./ufc.csv\")\n",
        "altura = csv['HEIGHT']\n",
        "csv = cambiarInToCm(csv,'HEIGHT')\n",
        "csv = cambiarInToCm(csv,'REACH')\n",
        "csv = eliminarURL(csv)\n",
        "csv = reemplazarGuionesPorNaN(csv)\n",
        "csv = eliminarFilasIncompletas(csv)\n",
        "csv = convertirFecha(csv)\n",
        "csv = eliminarEspacios(csv)\n",
        "print(csv)\n",
        "csv.to_csv('ufc.csv')\n",
        "\n"
      ]
    }
  ]
}