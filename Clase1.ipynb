{
  "nbformat": 4,
  "nbformat_minor": 0,
  "metadata": {
    "colab": {
      "provenance": []
    },
    "kernelspec": {
      "name": "python3",
      "display_name": "Python 3"
    },
    "language_info": {
      "name": "python"
    }
  },
  "cells": [
    {
      "cell_type": "code",
      "source": [],
      "metadata": {
        "id": "WZwklBrr2GAH"
      },
      "execution_count": null,
      "outputs": []
    },
    {
      "cell_type": "code",
      "execution_count": null,
      "metadata": {
        "id": "fjimRTeGyZQO"
      },
      "outputs": [],
      "source": [
        "def eliminarEspacios(lista):\n",
        "  for i in range(len(lista)):\n",
        "    lista[i] = lista[i].replace(\" \", \"\")\n",
        "  return lista\n",
        "\n",
        "lista = []\n",
        "for i in range(3):\n",
        "  palabra = input(\"Ingrese palabras \")\n",
        "  lista.append(palabra)\n",
        "\n",
        "lista=eliminarEspacios(lista)\n",
        "print(lista)\n",
        "\n",
        ""
      ]
    }
  ]
}